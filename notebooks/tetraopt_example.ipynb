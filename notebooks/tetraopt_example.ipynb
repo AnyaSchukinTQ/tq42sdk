{
 "cells": [
  {
   "cell_type": "markdown",
   "id": "35833d20",
   "metadata": {},
   "source": [
    "![](../images/TQ42_Logo_Black_Teal.svg)\n",
    "\n",
    "\n",
    "# Welcome to TQ42!\n",
    "\n",
    "\n",
    "## Begin by creating a client and selecting org, proj and exp"
   ]
  },
  {
   "cell_type": "code",
   "execution_count": 1,
   "id": "b3f3436a",
   "metadata": {
    "ExecuteTime": {
     "end_time": "2023-12-22T15:26:26.256077Z",
     "start_time": "2023-12-22T15:26:26.170385Z"
    }
   },
   "outputs": [],
   "source": [
    "from tq42.client import TQ42Client\n",
    "from tq42.organization import list_all as list_all_organizations\n",
    "from tq42.project import list_all as list_all_projects\n",
    "from tq42.experiment import list_all as list_all_experiments\n",
    "from tq42.experiment_run import ExperimentRun\n",
    "from tq42.compute import HardwareProto\n",
    "from tq42.algorithm import AlgorithmProto"
   ]
  },
  {
   "cell_type": "code",
   "execution_count": 3,
   "id": "c87c20d3",
   "metadata": {
    "ExecuteTime": {
     "end_time": "2023-12-22T15:26:26.742924Z",
     "start_time": "2023-12-22T15:26:26.259765Z"
    }
   },
   "outputs": [
    {
     "name": "stdout",
     "output_type": "stream",
     "text": [
      "<tq42.organization.Organization object at 0x107de4b80>\n",
      "\n",
      "<tq42.project.Project object at 0x107de4a90>\n",
      "\n",
      "<tq42.experiment.Experiment object at 0x107de4fa0>\n"
     ]
    }
   ],
   "source": [
    "with TQ42Client() as client: \n",
    "    org_list = list_all_organizations(client=client)\n",
    "    org_sample = org_list[0]\n",
    "\n",
    "    proj_list = list_all_projects(client=client, organization_id=org_sample.id)\n",
    "    proj_sample = proj_list[0]\n",
    "\n",
    "    exp_list = list_all_experiments(client=client, project_id=proj_sample.id)\n",
    "    exp_sample = exp_list[-1]\n",
    "\n",
    "    print(org_sample)\n",
    "    print()\n",
    "    print(proj_sample)\n",
    "    print()\n",
    "    print(exp_sample)"
   ]
  },
  {
   "cell_type": "markdown",
   "id": "24a04fed",
   "metadata": {},
   "source": [
    "## Run a TetraOpt experiment\n",
    "\n",
    "This example uses the TetraOpt experiment type to perform an optimization. Here the objective is to find the optimal route for the traveling sales problem with ten cities."
   ]
  },
  {
   "cell_type": "code",
   "execution_count": 4,
   "id": "0611ddd6",
   "metadata": {
    "ExecuteTime": {
     "end_time": "2023-12-22T15:26:27.461691Z",
     "start_time": "2023-12-22T15:26:26.743244Z"
    }
   },
   "outputs": [
    {
     "name": "stdout",
     "output_type": "stream",
     "text": [
      "id: \"ef45c9b5-a1a8-49f8-8b68-714dcb8f90bb\"\n",
      "experiment_id: \"796e95e6-a6bc-4880-92f9-13755a0772cd\"\n",
      "sequential_id: 22\n",
      "status: QUEUED\n",
      "algorithm: TETRA_OPT\n",
      "hardware: SMALL\n",
      "metadata: \"{\\\"parameters\\\":{\\\"dimensionality\\\":10,\\\"maximal_rank\\\":4,\\\"iteration_number\\\":4,\\\"quantization\\\":false,\\\"points_number\\\":1,\\\"tolerance\\\":0.001,\\\"lower_limits\\\":[0.0,0.0,0.0,0.0,0.0,0.0,0.0,0.0,0.0,0.0],\\\"upper_limits\\\":[9.0,9.0,9.0,9.0,9.0,9.0,9.0,9.0,9.0,9.0],\\\"grid\\\":[10,10,10,10,10,10,10,10,10,10],\\\"objective_function\\\":\\\"http://34.32.169.11:8000/func_eval/\\\",\\\"start_points\\\":[],\\\"precision\\\":null,\\\"point\\\":null,\\\"seed\\\":0,\\\"device\\\":null}}\"\n",
      "result {\n",
      "}\n",
      "created_by: \"3011b225-73a6-470c-b2e1-6f3c3e358149\"\n",
      "created_at {\n",
      "  seconds: 1703258787\n",
      "  nanos: 272394685\n",
      "}\n"
     ]
    }
   ],
   "source": [
    "parameters = {\n",
    "    \"parameters\": {\n",
    "        'dimensionality': 10,\n",
    "        'iteration_number': 4, \n",
    "        'maximal_rank': 4, \n",
    "        'points_number': 1, \n",
    "        'quantization': False,\n",
    "        'tolerance':0.0010000000474974513, \n",
    "        'lower_limits': [0,0,0,0,0,0,0,0,0,0], \n",
    "        'upper_limits': [9,9,9,9,9,9,9,9,9,9], \n",
    "        'grid': [10,10,10,10,10,10,10,10,10,10],\n",
    "        'objective_function':'http://34.32.169.11:8000/func_eval/'\n",
    "         #optional arguments below\n",
    "#          'start_points':[2,3,4,5,6,7],\n",
    "#          'precision':'float64',\n",
    "#          'point':'float64',\n",
    "#          'device':'CPU',\n",
    "#          'seed':2\n",
    "    },\n",
    "    \"inputs\": {}\n",
    "}\n",
    "run = ExperimentRun.create(\n",
    "    client=client,\n",
    "    algorithm=AlgorithmProto.TETRA_OPT, \n",
    "    experiment_id=exp_sample.id,\n",
    "    compute=HardwareProto.SMALL, \n",
    "    parameters=parameters\n",
    ")\n",
    "\n",
    "print(run.data)"
   ]
  },
  {
   "cell_type": "markdown",
   "id": "2761511e",
   "metadata": {},
   "source": [
    "## Poll the experiment run, and return results when finished"
   ]
  },
  {
   "cell_type": "code",
   "execution_count": null,
   "id": "235e707b",
   "metadata": {
    "scrolled": false,
    "is_executing": true,
    "ExecuteTime": {
     "start_time": "2023-12-22T15:26:27.459961Z"
    }
   },
   "outputs": [],
   "source": [
    "result = run.poll()\n",
    "print(result)"
   ]
  },
  {
   "cell_type": "code",
   "execution_count": null,
   "id": "5975e0be",
   "metadata": {
    "is_executing": true
   },
   "outputs": [],
   "source": []
  }
 ],
 "metadata": {
  "kernelspec": {
   "display_name": "Python 3 (ipykernel)",
   "language": "python",
   "name": "python3"
  },
  "language_info": {
   "codemirror_mode": {
    "name": "ipython",
    "version": 3
   },
   "file_extension": ".py",
   "mimetype": "text/x-python",
   "name": "python",
   "nbconvert_exporter": "python",
   "pygments_lexer": "ipython3",
   "version": "3.9.12"
  },
  "vscode": {
   "interpreter": {
    "hash": "2b948f73c602804da10ac5ef2ce43914090a4d8e5675991f378fa84d87ab2597"
   }
  }
 },
 "nbformat": 4,
 "nbformat_minor": 5
}
