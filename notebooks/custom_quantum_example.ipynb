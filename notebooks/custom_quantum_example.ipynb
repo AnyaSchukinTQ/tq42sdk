{
 "cells": [
  {
   "cell_type": "markdown",
   "metadata": {},
   "source": [
    "![TQ42%20Banner.png](attachment:TQ42%20Banner.png)"
   ]
  },
  {
   "cell_type": "markdown",
   "metadata": {},
   "source": [
    "# Welcome to TQ42\n",
    "\n",
    "## Example: Using Custom Quantum Layers"
   ]
  },
  {
   "cell_type": "markdown",
   "metadata": {},
   "source": [
    "## ✨ Introduction \n",
    "In this notebook, we will cover how to apply the custom quantum layer within a custom model architecture in the SDK. <br>\n",
    "\n",
    "Here we will train a custom time series prediction problem using a custom quantum layer with a classical dense layer. For more details, please see the [developer documentation](https://docs.tq42.com/en/latest/index.html).\n",
    "\n",
    "## 🎯 Objective\n",
    "\n",
    "Applying the custom quantum layer within a custom model architecture involves:\n",
    "1. Do this\n",
    "2. then this\n",
    "3. finally this"
   ]
  },
  {
   "cell_type": "code",
   "execution_count": null,
   "metadata": {},
   "outputs": [],
   "source": [
    "# Import packages\n",
    "\n",
    "from google.protobuf.json_format import MessageToDict\n",
    "from tq42.client import TQ42Client\n",
    "from tq42.experiment_run import ExperimentRun\n",
    "from tq42.compute import HardwareProto\n",
    "from tq42.algorithm import (\n",
    "    TrainDataProcessingParametersProto,\n",
    "    OptimProto,\n",
    "    LossFuncProto,\n",
    "    DatasetStorageInfoProto,\n",
    "    GenericMLTrainMetadataProto,\n",
    "    GenericMLTrainParametersProto,\n",
    "    Layer,\n",
    "    ClassicalDenseLayer,\n",
    "    MLModelType,\n",
    "    TrainModelInfoProto,\n",
    "    MLTrainInputsProto,\n",
    "    AlgorithmProto,\n",
    "    MeasureProto,\n",
    "    CustomQuantumLayer,\n",
    "    CnotGate,\n",
    "    HadamardGate,\n",
    "    VariationalGate,\n",
    "    EncodingGate,\n",
    "    MeasurementGate,\n",
    "    Gate\n",
    ")\n"
   ]
  },
  {
   "cell_type": "code",
   "execution_count": null,
   "metadata": {},
   "outputs": [],
   "source": [
    "# Connect to the cloud service\n",
    "# https://terraquantum.io\n",
    "\n",
    "with TQ42Client() as client:\n",
    "    client.login()"
   ]
  },
  {
   "cell_type": "code",
   "execution_count": null,
   "metadata": {},
   "outputs": [],
   "source": [
    "\n",
    "\n",
    "#Here is an example of how to apply the custom quantum layer within a custom model architecture in the SDK.\n",
    "#The following example trains a custom time series prediction problem using a custom quantum layer with a classical dense layer.\n",
    "\n",
    "custom_quantum_layer_msg = CustomQuantumLayer(\n",
    "    num_qubits=2,\n",
    "    gates=[\n",
    "        Gate(hadamard=HadamardGate(wire=0)),\n",
    "        Gate(hadamard=HadamardGate(wire=1)),\n",
    "        Gate(variational=VariationalGate(wire=0, rotation=MeasureProto.X)),\n",
    "        Gate(\n",
    "            encoding=EncodingGate(wire=1, rotation=MeasureProto.Y, feature_id=0)\n",
    "        ),\n",
    "        Gate(cnot=CnotGate(wire1=0, wire2=1)),\n",
    "        Gate(variational=VariationalGate(wire=1, rotation=MeasureProto.X)),\n",
    "        Gate(measurement=MeasurementGate(wire=0, pauli=MeasureProto.X)),\n",
    "        Gate(measurement=MeasurementGate(wire=1, pauli=MeasureProto.X)),\n",
    "    ],\n",
    ")\n",
    "\n",
    "env_msg = GenericMLTrainMetadataProto(\n",
    "    parameters=GenericMLTrainParametersProto(\n",
    "        model_type=MLModelType.MLP,\n",
    "        # Add and customize layers here\n",
    "        layers=[\n",
    "            Layer(custom_quantum_layer=custom_quantum_layer_msg),\n",
    "            Layer(classical_dense_layer=ClassicalDenseLayer(hidden_size=1, bias=True)),\n",
    "        ],\n",
    "        # WHY ONLY 1 EPOCH?\n",
    "        num_epochs=1,\n",
    "        k_fold=1,\n",
    "        batch_size=128,\n",
    "        learning_rate=0.01,\n",
    "        optim=OptimProto.ADAM,\n",
    "        loss_func=LossFuncProto.MAE,\n",
    "        train_model_info=TrainModelInfoProto(\n",
    "            # Provide a unique name to identify your trained model\n",
    "            name=\"local_test\",\n",
    "            # Add a brief description to help users understand the purpose or functionality of this trained model\n",
    "            description=\"a_description\",\n",
    "        ),\n",
    "        # Specify the input and output columns for your dataset\n",
    "        data_processing_parameters=TrainDataProcessingParametersProto(\n",
    "            input_columns=[0, 1, 2, 3], output_columns=[4], timestamp_columns=[]\n",
    "        ),\n",
    "    ),\n",
    "    inputs=MLTrainInputsProto(\n",
    "        # Provide the specific dataset storage ID of the data you uploaded to TQ42\n",
    "        data=DatasetStorageInfoProto(storage_id=\"47c6aba9-881b-4664-b714-dd9bb2f6bd5e\")\n",
    "    ),\n",
    ")\n",
    "\n",
    "with TQ42Client() as client:\n",
    "    client.login()\n",
    "    run = ExperimentRun.create(\n",
    "        client=client,\n",
    "        algorithm=AlgorithmProto.GENERIC_ML_TRAIN,\n",
    "        # Provide the specific experiement ID your are running on TQ42\n",
    "        experiment_id=\"b2004690-2a4b-479e-bafe-13a475bb0d69\",\n",
    "        compute=HardwareProto.SMALL,\n",
    "        parameters=MessageToDict(env_msg, preserving_proto_field_name=True)\n",
    "    )\n",
    "\n",
    "    print(run.data)\n",
    "\n",
    "    # Poll for the results\n",
    "    result = run.poll()\n",
    "\n",
    "    print(result.data)"
   ]
  }
 ],
 "metadata": {
  "kernelspec": {
   "display_name": "Python (TQ42_SDK_env)",
   "language": "python",
   "name": "tq42_sdk_env"
  },
  "language_info": {
   "codemirror_mode": {
    "name": "ipython",
    "version": 3
   },
   "file_extension": ".py",
   "mimetype": "text/x-python",
   "name": "python",
   "nbconvert_exporter": "python",
   "pygments_lexer": "ipython3",
   "version": "3.9.19"
  }
 },
 "nbformat": 4,
 "nbformat_minor": 2
}
