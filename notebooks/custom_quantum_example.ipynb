{
 "cells": [
  {
   "cell_type": "markdown",
   "metadata": {},
   "source": [
    "![TQ42%20Banner.png](attachment:TQ42%20Banner.png)"
   ]
  },
  {
   "cell_type": "markdown",
   "metadata": {},
   "source": [
    "# Welcome to TQ42\n",
    "\n",
    "## Example: Using Custom Quantum Layers"
   ]
  },
  {
   "cell_type": "markdown",
   "metadata": {},
   "source": [
    "## ✨ Introduction \n",
    "This notebook demonstrates how to create and use a custom quantum layer within a classical machine learning model using the TQ42 SDK. For more details, please see the [developer documentation](https://docs.tq42.com/en/latest/index.html).\n",
    "\n",
    "We'll tackle a regression problem with the Boston House Price dataset, predicting house prices based on property and neighborhood features. \n",
    "\n",
    "## 🎯 Objective\n",
    "\n",
    "Applying a custom quantum layer within a classical architecture involves:\n",
    "1. Preparing and connecting a training dataset\n",
    "2. Designing a custom quantum layer by creating and ordering the gates available in the TQnet library\n",
    "3. Integrating the custom quantum layer into a classical neural network model\n",
    "4. Creating and monitoring an experiment run to train the model using the data"
   ]
  },
  {
   "cell_type": "markdown",
   "metadata": {},
   "source": [
    "# 1. Import the TQ42 API"
   ]
  },
  {
   "cell_type": "code",
   "execution_count": 12,
   "metadata": {},
   "outputs": [],
   "source": [
    "# Import packages\n",
    "\n",
    "from google.protobuf.json_format import MessageToDict\n",
    "from tq42.client import TQ42Client\n",
    "from tq42.organization import list_all as list_all_organizations\n",
    "from tq42.project import list_all as list_all_projects\n",
    "from tq42.experiment import list_all as list_all_experiments\n",
    "from tq42.experiment_run import ExperimentRun\n",
    "from tq42.compute import HardwareProto\n",
    "from tq42.dataset import list_all\n",
    "from tq42.dataset import Dataset\n",
    "\n",
    "\n",
    "from tq42.algorithm import (\n",
    "    TrainDataProcessingParametersProto,\n",
    "    OptimProto,\n",
    "    LossFuncProto,\n",
    "    DatasetStorageInfoProto,\n",
    "    GenericMLTrainMetadataProto,\n",
    "    GenericMLTrainParametersProto,\n",
    "    Layer,\n",
    "    ClassicalDenseLayer,\n",
    "    MLModelType,\n",
    "    TrainModelInfoProto,\n",
    "    MLTrainInputsProto,\n",
    "    AlgorithmProto,\n",
    "    MeasureProto,\n",
    "    CustomQuantumLayer,\n",
    "    CnotGate,\n",
    "    HadamardGate,\n",
    "    VariationalGate,\n",
    "    EncodingGate,\n",
    "    MeasurementGate,\n",
    "    Gate\n",
    ")\n",
    "\n",
    "from ipywidgets import interact, interactive, fixed, interact_manual"
   ]
  },
  {
   "cell_type": "markdown",
   "metadata": {},
   "source": [
    "# 2. Create a client"
   ]
  },
  {
   "cell_type": "code",
   "execution_count": 13,
   "metadata": {},
   "outputs": [
    {
     "name": "stdout",
     "output_type": "stream",
     "text": [
      "{\"device_code\":\"-jlj7aYm-iq34HpVvguwPKzk\",\"user_code\":\"GDMB-ZQDL\",\"verification_uri\":\"https://auth.terraquantum.io/activate\",\"expires_in\":900,\"interval\":5,\"verification_uri_complete\":\"https://auth.terraquantum.io/activate?user_code=GDMB-ZQDL\"}\n",
      "If a browser does not open, please access this URL: https://auth.terraquantum.io/activate?user_code=GDMB-ZQDL to login. Also check the code: GDMB-ZQDL\n",
      "Authentication is successful, access token is saved in: keyring.\n",
      "org:2b040bcb-1697-491f-83d8-9da045c93eaf\n",
      "proj:347826c3-5b62-4bd7-ad06-cfd11b9e4746\n"
     ]
    }
   ],
   "source": [
    "# Connect to the cloud service\n",
    "# https://terraquantum.io\n",
    "\n",
    "with TQ42Client() as client:\n",
    "    client.login()"
   ]
  },
  {
   "cell_type": "markdown",
   "metadata": {},
   "source": [
    "# 3. Select an organization, project and experiment"
   ]
  },
  {
   "cell_type": "code",
   "execution_count": 14,
   "metadata": {},
   "outputs": [
    {
     "data": {
      "application/vnd.jupyter.widget-view+json": {
       "model_id": "7611b23375e342439b228bda4aeeb42e",
       "version_major": 2,
       "version_minor": 0
      },
      "text/plain": [
       "interactive(children=(Dropdown(description='x', options=('Terra Quantum AG',), value='Terra Quantum AG'), Outp…"
      ]
     },
     "metadata": {},
     "output_type": "display_data"
    }
   ],
   "source": [
    "# List the organizations available to you and select one\n",
    "\n",
    "with TQ42Client() as client: \n",
    "    org_list = list_all_organizations(client=client)\n",
    "    \n",
    "org=None\n",
    "def f(x):\n",
    "    global org\n",
    "    for o in org_list:\n",
    "        if o.data.name == x:\n",
    "            org = o\n",
    "            print(f\"Using organization {x}, {org.data.id}\")\n",
    "            return\n",
    "        \n",
    "interact(f, x=[o.data.name for o in org_list]);"
   ]
  },
  {
   "cell_type": "code",
   "execution_count": 15,
   "metadata": {},
   "outputs": [
    {
     "data": {
      "application/vnd.jupyter.widget-view+json": {
       "model_id": "8605322bcfe846d5a83b1642ee6b2f9d",
       "version_major": 2,
       "version_minor": 0
      },
      "text/plain": [
       "interactive(children=(Dropdown(description='x', options=('FRIENDLY_NAME', '0117231015', 'd5328ab0-b06c-4a06-84…"
      ]
     },
     "metadata": {},
     "output_type": "display_data"
    }
   ],
   "source": [
    "# List the projects within that organization and select one\n",
    "   \n",
    "with TQ42Client() as client: \n",
    "    proj_list = list_all_projects(client=client, organization_id=org.id)\n",
    "    \n",
    "proj=None\n",
    "def f(x):\n",
    "    global proj\n",
    "    for p in proj_list:\n",
    "        if p.data.name == x:\n",
    "            proj = p\n",
    "            print(f\"Using project {x}, {proj.data.id}\")\n",
    "            return\n",
    "        \n",
    "interact(f, x=[p.data.name for p in proj_list]);"
   ]
  },
  {
   "cell_type": "code",
   "execution_count": 16,
   "metadata": {},
   "outputs": [
    {
     "data": {
      "application/vnd.jupyter.widget-view+json": {
       "model_id": "287aad45b9e44ac597e98a7acff4ba13",
       "version_major": 2,
       "version_minor": 0
      },
      "text/plain": [
       "interactive(children=(Dropdown(description='x', options=('MES-TEST2', 'MES-TEST', 'Test1', 'experiment for pre…"
      ]
     },
     "metadata": {},
     "output_type": "display_data"
    }
   ],
   "source": [
    "# List the experiments within that project and select one\n",
    "\n",
    "with TQ42Client() as client: \n",
    "    exp_list = list_all_experiments(client=client, project_id=proj.id)\n",
    "    \n",
    "exp=None\n",
    "def f(x):\n",
    "    global exp\n",
    "    for e in exp_list:\n",
    "        if e.data.name == x:\n",
    "            exp = e\n",
    "            print(f\"Using experiment {x}, {exp.data.id}\")\n",
    "            return\n",
    "        \n",
    "interact(f, x=[e.data.name for e in exp_list]);"
   ]
  },
  {
   "cell_type": "markdown",
   "metadata": {},
   "source": [
    "# 4. List Datasets Available in the Project"
   ]
  },
  {
   "cell_type": "code",
   "execution_count": 19,
   "metadata": {},
   "outputs": [
    {
     "name": "stdout",
     "output_type": "stream",
     "text": [
      "DatasetList: [\n",
      "  <Dataset Id=818b9926-b542-4b35-b8ee-07fbe08ce655 Name=Output Dataset>\n",
      "  <Dataset Id=3bf03f15-e6dd-421b-8b5b-da402c1dc27f Name=boston_regression_valid>\n",
      "  <Dataset Id=079dca20-92e4-4d3a-ad4a-7d58830b1b40 Name=Output Dataset>\n",
      "  <Dataset Id=88507758-76f4-4e35-bb8a-eef385a3a7ff Name=Output Dataset>\n",
      "  <Dataset Id=be9768a4-fc55-4667-a9de-52d1515667df Name=Output Dataset>\n",
      "  <Dataset Id=2b78ddd2-ed16-4fea-936e-64f5e092a63c Name=ll_boston_regression>\n",
      "  <Dataset Id=815114ed-00fa-4688-ab86-f9e5d2094538 Name=Output Dataset>\n",
      "  <Dataset Id=513e9b31-45c0-423e-a524-ea262cb3c297 Name=Output Dataset>\n",
      "  <Dataset Id=0fa8fe45-6e7e-48e4-8ee2-513505c136e0 Name=Output Dataset>\n",
      "  <Dataset Id=bc2fd1fc-c58b-4a07-a040-2469046be9fe Name=Dataset Name Test1>\n",
      "  <Dataset Id=b4ac728b-47b0-49d6-90e1-be0fe002191d Name=Dataset Name Test1>\n",
      "  <Dataset Id=207fbadf-0b13-4b90-b6db-54525d07f437 Name=Output Dataset>\n",
      "  <Dataset Id=37ebe265-506c-4126-917c-4d7c9c2b7a7f Name=Output Dataset>\n",
      "  <Dataset Id=3d652ec8-6e33-4e71-9f7f-00d74b3701f4 Name=Output Dataset>\n",
      "  <Dataset Id=fab05c4f-355e-428b-95fd-19643a9721c5 Name=Output Dataset>\n",
      "  <Dataset Id=7e975a3f-0d67-4adc-969a-8c056502b795 Name=Output Dataset>\n",
      "  <Dataset Id=b085d423-3ae0-45fa-9caf-5f5174ccbe44 Name=Output Dataset>\n",
      "  <Dataset Id=124b99f8-2e0c-4df9-8703-99d134d99dc7 Name=Output Dataset>\n",
      "  <Dataset Id=072aab1a-2d07-4831-8390-6505ea50390d Name=Output Dataset>\n",
      "  <Dataset Id=d0ad0922-f66b-46fb-9c8d-9106a6e0c943 Name=Output Dataset>\n",
      "  <Dataset Id=517d432f-1cf6-44df-820d-9dd997e8756d Name=Output Dataset>\n",
      "  <Dataset Id=9abc3c22-50a1-4d43-9fb1-e506d0a26199 Name=Output Dataset>\n",
      "  <Dataset Id=54cf73ef-fc68-4a46-8593-9edb60b77c96 Name=Output Dataset>\n",
      "  <Dataset Id=be485f4f-49f1-4715-b014-249a5b9254a6 Name=Output Dataset>\n",
      "  <Dataset Id=06cbd9e2-2af7-47bb-80c4-798e9e0ab63b Name=Output Dataset>\n",
      "  <Dataset Id=fcc4775a-9a1c-4093-9efa-ff2f3ead9f70 Name=Output Dataset>\n",
      "  <Dataset Id=dfc0335c-015d-4651-9288-f9c9b9428187 Name=Output Dataset>\n",
      "  <Dataset Id=70e9c75d-7486-4651-84fa-e22a5e43954e Name=Output Dataset>\n",
      "  <Dataset Id=4041710c-abd2-4192-81f8-dc5f099f1390 Name=Output Dataset>\n",
      "  <Dataset Id=cd761044-21c0-4ecf-9752-e66939dc40f0 Name=Output Dataset>\n",
      "  <Dataset Id=86128216-7d71-427e-9e34-aeef28a378bb Name=Output Dataset>\n",
      "  <Dataset Id=30df5450-f94a-4d50-8447-0a0332488bd9 Name=CircuitRunnerDemo>\n",
      "  <Dataset Id=e27b0046-9f97-4c4b-aa86-70825d2d6c36 Name=Dataset Name Test1>\n",
      "  <Dataset Id=987f16de-2c42-4360-92b3-df3e54b5ad84 Name=Dataset Name Test1>\n",
      "  <Dataset Id=4e246f47-b22b-42e3-a0dc-8c842d1dde8e Name=Dataset Name Test1>\n",
      "  <Dataset Id=cea8636b-5958-427e-b118-dcdae9a06e8c Name=Dataset Name Test1>\n",
      "  <Dataset Id=9c856f8f-f72f-4ee5-b0b7-0b303e04b848 Name=LUSNIG via STEVEN inference>\n",
      "  <Dataset Id=1023200d-6d36-45ea-b66d-afbcc192eabc Name=generic_ml_prod>\n",
      "  <Dataset Id=497bcd49-2243-403d-87f7-771e58507224 Name=rc_bukcet_for_demo_version1>\n",
      "  <Dataset Id=108585e6-7a2e-4c65-8a8a-397f896a3000 Name=rc_bukcet_for_demo_version1>\n",
      "  <Dataset Id=8f9132a3-da98-43d5-830e-587a79ba68db Name=rc_bukcet_for_demo_version1>\n",
      "  <Dataset Id=34698b7a-7a86-45a2-bec6-d894c3c18b20 Name=rc_bukcet_for_demo_version1>\n",
      "  <Dataset Id=9c121793-e86e-4788-9460-d2516a2cfce8 Name=rc_bukcet_for_demo_version1>\n",
      "  <Dataset Id=e28a65d9-b6e4-4447-8715-4f80050a35a7 Name=test_dataset_demo_1>\n",
      "  <Dataset Id=73abb618-3a91-4665-9ff9-4d0d074cb6f6 Name=bucket_for_experiment>\n",
      "  <Dataset Id=1aeacb11-cea7-4554-a3b0-051071feaa3e Name=credit scaled old>\n",
      "  <Dataset Id=0282211d-fdb2-458b-98e5-a1bef553a47a Name=credit2>\n",
      "  <Dataset Id=5be1e22d-662c-4f19-b6a7-7872f5475861 Name=credit_minmax>\n",
      "  <Dataset Id=9b772fd0-8cc5-4ecb-99e5-fdcd50acaa3e Name=rc prod circuit run>\n",
      "  <Dataset Id=66287e36-ed59-4c1d-b45d-4ac258475dd3 Name=generic-ml-inference-data__24-02-16>\n",
      "  <Dataset Id=a91e6700-74ba-407f-8331-8f795bf7eb8b Name=generic-ml-training-data__24-02-16>\n",
      "  <Dataset Id=966630fc-44a2-4757-964f-0bcd39d3233a Name=LUSNIGCVAVM>\n",
      "  <Dataset Id=7cb5a55d-e9f2-41ec-80f0-64b1d9e0d564 Name=LUSNIG CVA VM>\n",
      "  <Dataset Id=f9718f19-165a-481a-8360-7594d204e6e4 Name=LUSNIG CVA LSTM TRAIN>\n",
      "  <Dataset Id=2ba49c28-cf84-43d3-a9ae-236c6f71250c Name=reubenc_dataset_1>\n",
      "  <Dataset Id=99004df0-1593-4628-8707-0bf9a7a1b230 Name=reubenc mydataset 3>\n",
      "]\n"
     ]
    }
   ],
   "source": [
    "# List datasets in the project you can use to train your model\n",
    "# You'll provide the id for one of these datasets along with the input and output columns when you train the model below. If you don't know the input/output columns for the dataset, it's best to upload a new one.\n",
    "\n",
    "with TQ42Client() as client:\n",
    "    # datasets = list_all(client=client, project_id=\"ENTER_PROJECT_ID_HERE\")\n",
    "    datasets = list_all(client=client, project_id=\"347826c3-5b62-4bd7-ad06-cfd11b9e4746\")\n",
    "    print(datasets)"
   ]
  },
  {
   "cell_type": "markdown",
   "metadata": {},
   "source": [
    "# 5. (Optional) Upload a Dataset"
   ]
  },
  {
   "cell_type": "code",
   "execution_count": null,
   "metadata": {},
   "outputs": [],
   "source": [
    "# If you do not already have a dataset in that project, upload a dataset from a cloud storage bucket\n",
    "# Note: The URL format is gs://[id_of_bucket].\n",
    "\n",
    "# from tq42.client import TQ42Client\n",
    "# from tq42.dataset import Dataset, DatasetSensitivityProto\n",
    "\n",
    "# with TQ42Client() as client:\n",
    "#     dataset = Dataset.create(\n",
    "#         client=client,\n",
    "#         name=\"<NAME_OF_THE_NEW_DATASET>\",\n",
    "#         description=\"<DESCRIPTION_OF_THE_NEW_DATASET>\",\n",
    "#         url=\"gs://<THIS_IS_YOUR_BUCKET_URL>\",\n",
    "#         sensitivity=DatasetSensitivityProto.SENSITIVE,\n",
    "#         project_id=\"<PROJECT_ID>\",\n",
    "#     )\n",
    "#     print(dataset.id)"
   ]
  },
  {
   "cell_type": "markdown",
   "metadata": {},
   "source": [
    "# 6. Build and Train the Custom-Hybrid Network"
   ]
  },
  {
   "cell_type": "markdown",
   "metadata": {},
   "source": [
    "Verify your experiment run details"
   ]
  },
  {
   "cell_type": "code",
   "execution_count": 20,
   "metadata": {},
   "outputs": [
    {
     "name": "stdout",
     "output_type": "stream",
     "text": [
      "Running experiment within: Org ('Terra Quantum AG', '2b040bcb-1697-491f-83d8-9da045c93eaf'), Proj ('FRIENDLY_NAME', '347826c3-5b62-4bd7-ad06-cfd11b9e4746') and Exp ('MES-TEST2', '166d459c-3488-4651-8240-cc5a61cd0917')`\n"
     ]
    }
   ],
   "source": [
    "print(f\"Running experiment within: Org {org.data.name, org.id}, Proj {proj.data.name, proj.id} and Exp {exp.data.name, exp.id}`\")"
   ]
  },
  {
   "cell_type": "code",
   "execution_count": 21,
   "metadata": {},
   "outputs": [],
   "source": [
    "# Create and design the Custom Quantum Layer. \n",
    "# This is an example sequence, however this sequence is customizable\n",
    "\n",
    "custom_quantum_layer_msg = CustomQuantumLayer(\n",
    "    num_qubits=2,\n",
    "    gates=[\n",
    "        # Apply Hadamard gates to create superposition\n",
    "        Gate(hadamard=HadamardGate(wire=0)),\n",
    "        Gate(hadamard=HadamardGate(wire=1)),\n",
    "        # Apply a variational gate for parameter optimization\n",
    "        Gate(variational=VariationalGate(wire=0, rotation=MeasureProto.X)),\n",
    "        Gate(\n",
    "            # Encode classical data into the quantum circuit\n",
    "            encoding=EncodingGate(wire=1, rotation=MeasureProto.Y, feature_id=0) # Encode classical feature 0 as Y rotation on qubit 1\n",
    "        ),\n",
    "        # Apply entanglement between qubits\n",
    "        Gate(cnot=CnotGate(wire1=0, wire2=1)), # CNOT gate with control qubit 0 and target qubit 1\n",
    "        # Apply another variational gate\n",
    "        Gate(variational=VariationalGate(wire=1, rotation=MeasureProto.X)),\n",
    "        # Measure the qubits\n",
    "        Gate(measurement=MeasurementGate(wire=0, pauli=MeasureProto.X)),\n",
    "        Gate(measurement=MeasurementGate(wire=1, pauli=MeasureProto.X)),\n",
    "    ],\n",
    ")\n",
    "# Create a classical neural network and integrate the CQ layer\n",
    "env_msg = GenericMLTrainMetadataProto(\n",
    "    parameters=GenericMLTrainParametersProto(\n",
    "        model_type=MLModelType.MLP,\n",
    "        # Add and customize layers here\n",
    "        layers=[\n",
    "            Layer(custom_quantum_layer=custom_quantum_layer_msg),\n",
    "            Layer(classical_dense_layer=ClassicalDenseLayer(hidden_size=1, bias=True)),\n",
    "        ],\n",
    "        # WHY ONLY 1 EPOCH? !!!!!!!!!!!!!!!!         !!!!!!!!!!!!!!!!!!!!!!!!!!!!!!!!!         !!!!!!!!!!!!!!!!!!!!!!!!!!\n",
    "        num_epochs=1,\n",
    "        k_fold=1,\n",
    "        batch_size=128,\n",
    "        learning_rate=0.01,\n",
    "        optim=OptimProto.ADAM,\n",
    "        loss_func=LossFuncProto.MAE,\n",
    "        train_model_info=TrainModelInfoProto(\n",
    "            # Provide a unique name to identify your trained model\n",
    "            name=\"local_test\",\n",
    "            # Add a brief description to help users understand the purpose or functionality of this trained model\n",
    "            description=\"a_description\",\n",
    "        ),\n",
    "        # Specify the input and output columns for your dataset\n",
    "        data_processing_parameters=TrainDataProcessingParametersProto(\n",
    "            input_columns=[0, 1, 2, 3, 4, 5, 6, 7, 8, 9, 10, 11, 12],\n",
    "            output_columns=[13]\n",
    "            # input_columns=[0, 1, 2, 3], output_columns=[4], timestamp_columns=[]\n",
    "        ),\n",
    "    ),\n",
    "    inputs=MLTrainInputsProto(\n",
    "        # Provide the specific dataset storage ID of the data you uploaded to TQ42\n",
    "        # data=DatasetStorageInfoProto(storage_id=\"STORAGE ID\")\n",
    "        data=DatasetStorageInfoProto(storage_id=\"3bf03f15-e6dd-421b-8b5b-da402c1dc27f\")\n",
    "    ),\n",
    ")"
   ]
  },
  {
   "cell_type": "code",
   "execution_count": null,
   "metadata": {},
   "outputs": [],
   "source": [
    "# Train the neural network containing the new custom quantum layer\n",
    "\n",
    "run = ExperimentRun.create(\n",
    "    client=client,\n",
    "    algorithm=AlgorithmProto.GENERIC_ML_TRAIN,\n",
    "    # Provide the specific experiement ID your are running on TQ42\n",
    "    # experiment_id=\"b2004690-2a4b-479e-bafe-13a475bb0d69\",\n",
    "    experiment_id=exp.id,\n",
    "    compute=HardwareProto.SMALL,\n",
    "    parameters=MessageToDict(env_msg, preserving_proto_field_name=True)\n",
    ")\n",
    "\n",
    "print(run.data)"
   ]
  },
  {
   "cell_type": "code",
   "execution_count": null,
   "metadata": {},
   "outputs": [],
   "source": [
    "# Poll for the results\n",
    "\n",
    "result = run.poll()\n",
    "\n",
    "print(result.data)"
   ]
  },
  {
   "cell_type": "markdown",
   "metadata": {},
   "source": [
    "### Export Results"
   ]
  },
  {
   "cell_type": "code",
   "execution_count": null,
   "metadata": {},
   "outputs": [],
   "source": [
    "# Export the trained dataset using the storage_id of the inferred_evaluation_data in the results above\n",
    "\n",
    "# dataset = Dataset(client=client, id=\"<YOUR_DATASET_ID>\")\n",
    "dataset = Dataset(client=client, id=\"1023200d-6d36-45ea-b66d-afbcc192eabc\")\n",
    "print(dataset)\n",
    "# exported_files = dataset.export(directory_path=\"<YOUR_EXPORT_PATH>\")\n",
    "exported_files = dataset.export(directory_path=\"/Users/anyaschukin/Coding_Projects/data_samples/Quantum\")\n",
    "print(exported_files)"
   ]
  }
 ],
 "metadata": {
  "kernelspec": {
   "display_name": "Python (TQ42_SDK_env)",
   "language": "python",
   "name": "tq42_sdk_env"
  },
  "language_info": {
   "codemirror_mode": {
    "name": "ipython",
    "version": 3
   },
   "file_extension": ".py",
   "mimetype": "text/x-python",
   "name": "python",
   "nbconvert_exporter": "python",
   "pygments_lexer": "ipython3",
   "version": "3.9.19"
  }
 },
 "nbformat": 4,
 "nbformat_minor": 2
}
